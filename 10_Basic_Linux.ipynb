{
  "cells": [
    {
      "cell_type": "markdown",
      "metadata": {
        "id": "view-in-github",
        "colab_type": "text"
      },
      "source": [
        "<a href=\"https://colab.research.google.com/github/Sean-Reinhardt/Reinhardt-Sean/blob/main/10_Basic_Linux.ipynb\" target=\"_parent\"><img src=\"https://colab.research.google.com/assets/colab-badge.svg\" alt=\"Open In Colab\"/></a>"
      ]
    },
    {
      "cell_type": "markdown",
      "metadata": {
        "id": "uGse1P6OpRaw"
      },
      "source": [
        "# 10 Basic Linux"
      ]
    },
    {
      "cell_type": "markdown",
      "metadata": {
        "id": "BCRWVxz7pRax"
      },
      "source": [
        "Researchers often need to work with computers running the Linux operating system. For example because:\n",
        "- High Performance Computers mostly run Linux\n",
        "- Machines and experiments are often operated by Linux machines\n",
        "- Research software is sometimes only available for Linux\n",
        "- ...\n",
        "\n",
        "For a brief history of Linux you may look at the [wikipedia entry](https://en.wikipedia.org/wiki/Linux)\n",
        "\n"
      ]
    },
    {
      "cell_type": "markdown",
      "source": [
        "If your jubyter is running on a Linux machine, like here on Colab, you can execute Linux commands by preceeding an !"
      ],
      "metadata": {
        "id": "i-APxhf0VxvK"
      }
    },
    {
      "cell_type": "code",
      "source": [
        "! ls -l # exclamation mark tells jupiter that it is a linux command (l stands for the long format of the directory)"
      ],
      "metadata": {
        "colab": {
          "base_uri": "https://localhost:8080/"
        },
        "id": "LpPkVdoZeBjh",
        "outputId": "d3172b11-51ee-4f67-ef05-d4a0749ebb9b"
      },
      "execution_count": 1,
      "outputs": [
        {
          "output_type": "stream",
          "name": "stdout",
          "text": [
            "total 4\n",
            "drwxr-xr-x 1 root root 4096 Apr  3 13:38 sample_data\n"
          ]
        }
      ]
    },
    {
      "cell_type": "code",
      "source": [
        "! pwd # where am I"
      ],
      "metadata": {
        "id": "C7_2O_JJ1CGd",
        "outputId": "ade83459-a3ab-4993-ae86-cdc111dc82a2",
        "colab": {
          "base_uri": "https://localhost:8080/"
        }
      },
      "execution_count": 2,
      "outputs": [
        {
          "output_type": "stream",
          "name": "stdout",
          "text": [
            "/content\n"
          ]
        }
      ]
    },
    {
      "cell_type": "markdown",
      "source": [
        "### Users and Privileges"
      ],
      "metadata": {
        "id": "F164akwaeDiK"
      }
    },
    {
      "cell_type": "markdown",
      "source": [
        "On Linux systems there is the super user, i.e. the system administator that can do everything (also look at other users files and delete them), and normal users. They are called root and user. On your virtual machine on colab you are root as the ls -l command showed us. "
      ],
      "metadata": {
        "id": "ybxzb2TWe8GT"
      }
    },
    {
      "cell_type": "markdown",
      "source": [
        "On Linux files (and commands) can be readable (r), writeable (w) and executable (x). These proveleges can be assigned to three different categories of users: the owner, the group (a defined group of users) and the world (all other users). The ls -l above, shows that the directory (d) sample_data is rwx by the owner (root), r-x by the group (root) and r-x for others. "
      ],
      "metadata": {
        "id": "gnp-DevKfon-"
      }
    },
    {
      "cell_type": "markdown",
      "source": [
        "### Documentation\n",
        "\n",
        "All Linux commands have man pages. You see them like this"
      ],
      "metadata": {
        "id": "LxPLo4Vgg0vP"
      }
    },
    {
      "cell_type": "code",
      "source": [
        "!man ls "
      ],
      "metadata": {
        "id": "KE22FUruhSWS",
        "colab": {
          "base_uri": "https://localhost:8080/"
        },
        "outputId": "bf63a99b-2226-4b31-dd55-60d2b3f22fb1"
      },
      "execution_count": 3,
      "outputs": [
        {
          "output_type": "stream",
          "name": "stdout",
          "text": [
            "This system has been minimized by removing packages and content that are\n",
            "not required on a system that users do not log into.\n",
            "\n",
            "To restore this content, including manpages, you can run the 'unminimize'\n",
            "command. You will still need to ensure the 'man-db' package is installed.\n"
          ]
        }
      ]
    },
    {
      "cell_type": "markdown",
      "source": [
        "However, one can also google all commands for examples and descriptions. Many useful commands for daily research life are summarised in this [cheat sheet](https://cheatography.com/davechild/cheat-sheets/linux-command-line/)."
      ],
      "metadata": {
        "id": "fjlXBSuvhV28"
      }
    },
    {
      "cell_type": "markdown",
      "source": [
        "###Exercise"
      ],
      "metadata": {
        "id": "rY96azklhiC2"
      }
    },
    {
      "cell_type": "markdown",
      "source": [
        "```\n",
        "sadfdsaf\n",
        "```\n"
      ],
      "metadata": {
        "id": "xD7JpK51E_41"
      }
    },
    {
      "cell_type": "markdown",
      "source": [
        "- Login to UBELIX with ssh my_username@submit.unibe.ch\n",
        "- Make a new directory for this tutorial\n",
        "- Open a new file with the nano editor (nano job.py) and paste in the code below\n",
        "- Run the file from the command line with python job.py 0 10000\n",
        "- Create a file create-jobs.py with the code below\n",
        "- Run a couple of jobs with sbatch job/jobs-X.sh\n",
        "- Check the output"
      ],
      "metadata": {
        "id": "pkBWCU3litXf"
      }
    },
    {
      "cell_type": "markdown",
      "source": [
        "```\n",
        "import sys\n",
        "\n",
        "start =  int(sys.argv[1])\n",
        "end   =  int(sys.argv[2])\n",
        "\n",
        "print(start,end)\n",
        "\n",
        "def abund(start,n):\n",
        "    for p in range(start,n):\n",
        "        i = 1\n",
        "        while i<p:\n",
        "            liste = []\n",
        "            sum = 0\n",
        "            for i in range(2,n+1):\n",
        "                if p%i == 0:\n",
        "                    zahl = p/i\n",
        "                    liste.append(zahl)\n",
        "\n",
        "            for item in liste:\n",
        "                item = int(item)\n",
        "                sum+=item\n",
        "\n",
        "            if sum == p:\n",
        "                print(\"!\", p, \" ist eine vollkommene Zahl.\")\n",
        "#            elif sum > p:\n",
        "#                print(p, \" ist eine abundante Zahl.\")\n",
        "#            else:\n",
        "#                print(p, \" ist eine defiziente Zahl.\")\n",
        "            i+=1\n",
        "\n",
        "abund(start,end)\n",
        "´´´\n"
      ],
      "metadata": {
        "id": "XiO_Ic3LsaMV"
      }
    },
    {
      "cell_type": "markdown",
      "source": [
        "```\n",
        "n = 100000 # Numbers to check\n",
        "\n",
        "l = \"\"\"#!/bin/bash\n",
        "#SBATCH --job-name=\"First example\"\n",
        "#SBATCH --time=00:10:00\n",
        "#SBATCH --mem-per-cpu=1G\n",
        "\n",
        "# Your code below this line\n",
        "module load Python\n",
        "\"\"\"\n",
        "\n",
        "# Create the job-.sh files\n",
        "for i in range(0,n,10000):\n",
        "  ll =l+'srun python3 ./job.py '+str(i)+' '+str(i+10000)+'\\n'\n",
        "  f = open('jobs/job-'+str(i)+'.sh','w')\n",
        "  f.write(ll)\n",
        "  f.close()\n",
        "```\n"
      ],
      "metadata": {
        "id": "3AvvRJm4Ec4U"
      }
    },
    {
      "cell_type": "code",
      "source": [
        "# large job of perfect numbers between 0 and 10000 was sliced up into 10 smaller ones which were submitted to ubelix"
      ],
      "metadata": {
        "id": "nJkW7gp4FeEQ"
      },
      "execution_count": null,
      "outputs": []
    },
    {
      "cell_type": "markdown",
      "source": [
        "\n",
        "\n",
        "---\n",
        "\n",
        "## Mandatory assignment by 17:00\n",
        "Submit one question regarding this tutorial [here](https://docs.google.com/forms/d/e/1FAIpQLSeQskEubSUMw1lCRBBnOx5orKjCiMgQ-AWgkliu0Nnf-XEfvA/viewform?usp=sf_link) !\n"
      ],
      "metadata": {
        "id": "RUhhsA8amOIK"
      }
    }
  ],
  "metadata": {
    "anaconda-cloud": {},
    "kernelspec": {
      "display_name": "Python 3",
      "language": "python",
      "name": "python3"
    },
    "language_info": {
      "codemirror_mode": {
        "name": "ipython",
        "version": 3
      },
      "file_extension": ".py",
      "mimetype": "text/x-python",
      "name": "python",
      "nbconvert_exporter": "python",
      "pygments_lexer": "ipython3",
      "version": "3.5.1"
    },
    "colab": {
      "name": "10-Basic-Linux.ipynb",
      "provenance": [],
      "include_colab_link": true
    }
  },
  "nbformat": 4,
  "nbformat_minor": 0
}