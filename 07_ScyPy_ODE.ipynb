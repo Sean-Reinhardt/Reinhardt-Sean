{
  "nbformat": 4,
  "nbformat_minor": 0,
  "metadata": {
    "colab": {
      "name": "07-ScyPy-ODE.ipynb",
      "provenance": [],
      "include_colab_link": true
    },
    "kernelspec": {
      "name": "python3",
      "display_name": "Python 3"
    },
    "language_info": {
      "name": "python"
    }
  },
  "cells": [
    {
      "cell_type": "markdown",
      "metadata": {
        "id": "view-in-github",
        "colab_type": "text"
      },
      "source": [
        "<a href=\"https://colab.research.google.com/github/Sean-Reinhardt/Reinhardt-Sean/blob/main/07_ScyPy_ODE.ipynb\" target=\"_parent\"><img src=\"https://colab.research.google.com/assets/colab-badge.svg\" alt=\"Open In Colab\"/></a>"
      ]
    },
    {
      "cell_type": "code",
      "execution_count": 1,
      "metadata": {
        "id": "4Ifc_vuD_-gs"
      },
      "outputs": [],
      "source": [
        "import numpy as np\n",
        "from scipy.integrate import odeint # get youself an overview of the methods in scipy.integrate\n",
        "import matplotlib.pyplot as plt"
      ]
    },
    {
      "cell_type": "markdown",
      "source": [
        "## Simple ODE"
      ],
      "metadata": {
        "id": "UYkcfl7CANO0"
      }
    },
    {
      "cell_type": "markdown",
      "source": [
        "Solve the following ODE\n",
        "$$ \\frac{dy}{dt} = ye^{-t}$$\n",
        "from $t_0=0$ to t=6 with the initial condition $y_0 = y(t_0)= 1$. Plot the resulting function $y(t)$."
      ],
      "metadata": {
        "id": "Qx2GmHqZAa3D"
      }
    },
    {
      "cell_type": "code",
      "source": [
        "def f(y,t):\n",
        "  dydt = y * np.exp(-t)\n",
        "  return dydt\n",
        "\n",
        "t = np.linspace(0,6)\n",
        "y0 = 1.0\n",
        "y = odeint(f,y0,t)\n",
        "print(y)"
      ],
      "metadata": {
        "id": "u_JA6ZDRBJHz",
        "outputId": "322bb49a-33fc-4216-b5eb-57aec4986595",
        "colab": {
          "base_uri": "https://localhost:8080/"
        }
      },
      "execution_count": 2,
      "outputs": [
        {
          "output_type": "stream",
          "name": "stdout",
          "text": [
            "[[1.        ]\n",
            " [1.12215284]\n",
            " [1.24261203]\n",
            " [1.3599266 ]\n",
            " [1.47292262]\n",
            " [1.58069959]\n",
            " [1.68261258]\n",
            " [1.77824531]\n",
            " [1.86737861]\n",
            " [1.94995736]\n",
            " [2.02605862]\n",
            " [2.09586192]\n",
            " [2.15962297]\n",
            " [2.21765106]\n",
            " [2.27029015]\n",
            " [2.31790345]\n",
            " [2.36086127]\n",
            " [2.39953157]\n",
            " [2.43427295]\n",
            " [2.46542958]\n",
            " [2.49332776]\n",
            " [2.5182738 ]\n",
            " [2.54055286]\n",
            " [2.56042856]\n",
            " [2.57814321]\n",
            " [2.59391843]\n",
            " [2.60795604]\n",
            " [2.62043915]\n",
            " [2.6315334 ]\n",
            " [2.6413882 ]\n",
            " [2.65013801]\n",
            " [2.65790358]\n",
            " [2.66479315]\n",
            " [2.67090359]\n",
            " [2.67632149]\n",
            " [2.68112415]\n",
            " [2.68538049]\n",
            " [2.68915192]\n",
            " [2.69249312]\n",
            " [2.69545271]\n",
            " [2.69807392]\n",
            " [2.70039516]\n",
            " [2.70245054]\n",
            " [2.70427035]\n",
            " [2.70588145]\n",
            " [2.70730768]\n",
            " [2.70857016]\n",
            " [2.70968763]\n",
            " [2.7106767 ]\n",
            " [2.71155208]]\n"
          ]
        }
      ]
    },
    {
      "cell_type": "code",
      "source": [
        "# plt.plot(t,y)\n",
        "# plt.xlabel('Time / s')\n",
        "# plt.ylabel('y(t)')"
      ],
      "metadata": {
        "id": "tTyRQz9qBtzw"
      },
      "execution_count": null,
      "outputs": []
    },
    {
      "cell_type": "markdown",
      "source": [
        "## Set of two ODE"
      ],
      "metadata": {
        "id": "QoreO-VPCMqS"
      }
    },
    {
      "cell_type": "markdown",
      "source": [
        "We have the first order reaction $A \\rightarrow B$. The reaction rate is given by\n",
        "$$ \\frac{dC_A}{dt} = -kC_A $$\n",
        "where $k = 2.0$ and the initial concentration $C_A(t=0)=1.0$. The product composition $C_B$ is described by\n",
        "$$\\frac{dC_B}{dt} = k C_A$$\n",
        "Solve the equations and plot $C_A$ and $C_B$ versus time in the same figure."
      ],
      "metadata": {
        "id": "AgnfeUjSC9kH"
      }
    },
    {
      "cell_type": "code",
      "source": [
        " def rnx(C,t):\n",
        "   Ca = C[0]\n",
        "   Cb = C[1]\n",
        "   k  = 2.0\n",
        "   dAdt = -k * Ca\n",
        "   dBdt =  k * Ca\n",
        "   return [dAdt,dBdt]\n",
        " t  = np.linspace(0,5,1000)\n",
        " C0 = [1,0]\n",
        " C  = odeint(rnx,C0,t)\n",
        " plt.plot(t,C[:,0], 'r--',linewidth=2.0) # r ist just red and b for blue\n",
        " plt.plot(t,C[:,1], 'b-',linewidth=2.0)\n",
        " plt.xlabel('Time / s')\n",
        " plt.ylabel('Concentration')\n",
        " plt.legend(['Ca','Cb'])"
      ],
      "metadata": {
        "id": "1Nm-i4myEV7R",
        "outputId": "76aeb0e6-d18a-42f4-fa0f-52415030517c",
        "colab": {
          "base_uri": "https://localhost:8080/",
          "height": 297
        }
      },
      "execution_count": 3,
      "outputs": [
        {
          "output_type": "execute_result",
          "data": {
            "text/plain": [
              "<matplotlib.legend.Legend at 0x7f37015bc3a0>"
            ]
          },
          "metadata": {},
          "execution_count": 3
        },
        {
          "output_type": "display_data",
          "data": {
            "text/plain": [
              "<Figure size 432x288 with 1 Axes>"
            ],
            "image/png": "[encoded data removed]"
          },
          "metadata": {
            "needs_background": "light"
          }
        }
      ]
    },
    {
      "cell_type": "markdown",
      "source": [
        "## Set of four ODE"
      ],
      "metadata": {
        "id": "60R9fUr3Fgq3"
      }
    },
    {
      "cell_type": "markdown",
      "source": [
        "We are performing the following chemical reactions.\n",
        "$$ Rxn\\, 1: A + B \\rightarrow C $$\n",
        "$$ Rxn\\, 2: B + C \\rightarrow D $$\n",
        "A, B, C and D denote the species concentrations in mol/L. Let the initial concentrations be $A_0=1$, $B_0=1$, $C_0=$ and $D_0=0$. $k_1=1$, $k_2=1.5 L/Mol*s$.\n",
        "\n",
        "Plot the concentrations if A, B, C and D as functions of time for $t = [0,3]$ with $\\Delta t = 0.2$s. Also plot the selectivity defined as $S=C/(C+D)$ with $S(t_0)=1$. "
      ],
      "metadata": {
        "id": "oJElw9r0XKvI"
      }
    },
    {
      "cell_type": "markdown",
      "source": [
        "The ordinary differential equations:\n",
        "$$\\frac{dA}{dt} = -k_1 C_A C_B$$\n",
        "$$\\frac{dB}{dt} = -k_1 C_A C_B - k_2 C_B C_C$$\n",
        "$$\\frac{dC}{dt} = k_1 C_A C_B - k_2 C_B C_C$$\n",
        "$$\\frac{dD}{dt} = k_2 C_B C_C$$\n",
        "\n",
        "\n"
      ],
      "metadata": {
        "id": "S6ksTKEQXNVG"
      }
    },
    {
      "cell_type": "code",
      "source": [
        " def rxn(Z,t):\n",
        "   k1 = 1\n",
        "   k2 = 1.5\n",
        "   r1 = k1 * Z[0]*Z[1] # Z[0] is defined in Z0 down below and is just referencing the concentration of A \n",
        "   r2 = k2 * Z[1]*Z[2]\n",
        "   dAdt = -r1 # A is used up in the first reaction (r1), b is used up in both r1 and r2 as it has a starting concentration of 1\n",
        "   dBdt = -r1 - r2\n",
        "   dCdt = r1 - r2 # C ist formed in the rist reaction but then used in the second one\n",
        "   dDdt = r2\n",
        "   return [dAdt,dBdt,dCdt,dDdt]\n",
        "\n",
        " t  = np.linspace(0,3,16)\n",
        " Z0 = [1,1,0,0]\n",
        " Conc = odeint(rxn,Z0,t)\n",
        " cA = Conc[:,0]\n",
        " cB = Conc[:,1]\n",
        " cC = Conc[:,2]\n",
        " cD = Conc[:,3]\n",
        "\n",
        " S = cC / (cC+cD)\n",
        "\n",
        " plt.plot(t, cA,label='Ca' )\n",
        " plt.plot(t, cB,label='Cb')\n",
        " plt.plot(t, cC, label='Cc')\n",
        " plt.plot(t, cD, label='Cd')\n",
        " plt.plot(t, S, label='S')\n",
        " plt.legend()"
      ],
      "metadata": {
        "colab": {
          "base_uri": "https://localhost:8080/",
          "height": 318
        },
        "id": "iV8uPCcL1vhS",
        "outputId": "17f8fc64-fde3-49ae-af55-f2a7450537cf"
      },
      "execution_count": 6,
      "outputs": [
        {
          "output_type": "stream",
          "name": "stderr",
          "text": [
            "<ipython-input-6-7da1ede9d2f0>:20: RuntimeWarning: invalid value encountered in true_divide\n",
            "  S = cC / (cC+cD)\n"
          ]
        },
        {
          "output_type": "execute_result",
          "data": {
            "text/plain": [
              "<matplotlib.legend.Legend at 0x7f36ff49c310>"
            ]
          },
          "metadata": {},
          "execution_count": 6
        },
        {
          "output_type": "display_data",
          "data": {
            "text/plain": [
              "<Figure size 432x288 with 1 Axes>"
            ],
            "image/png": "[encoded data removed]"
          },
          "metadata": {
            "needs_background": "light"
          }
        }
      ]
    },
    {
      "cell_type": "code",
      "source": [],
      "metadata": {
        "id": "rSKj8OX_3baG"
      },
      "execution_count": null,
      "outputs": []
    }
  ]
}