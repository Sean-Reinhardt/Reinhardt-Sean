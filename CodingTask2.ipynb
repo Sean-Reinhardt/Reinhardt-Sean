{
  "nbformat": 4,
  "nbformat_minor": 0,
  "metadata": {
    "colab": {
      "name": "CodingTask2.ipynb",
      "provenance": [],
      "include_colab_link": true
    },
    "kernelspec": {
      "name": "python3",
      "display_name": "Python 3"
    },
    "language_info": {
      "name": "python"
    }
  },
  "cells": [
    {
      "cell_type": "markdown",
      "metadata": {
        "id": "view-in-github",
        "colab_type": "text"
      },
      "source": [
        "<a href=\"https://colab.research.google.com/github/Sean-Reinhardt/Reinhardt-Sean/blob/main/CodingTask2.ipynb\" target=\"_parent\"><img src=\"https://colab.research.google.com/assets/colab-badge.svg\" alt=\"Open In Colab\"/></a>"
      ]
    },
    {
      "cell_type": "markdown",
      "source": [],
      "metadata": {
        "id": "faeCt-MlqlIJ"
      }
    },
    {
      "cell_type": "markdown",
      "source": [
        "Data Science Fundamentals for DCBP, S. Haug, University of Bern "
      ],
      "metadata": {
        "id": "_-1mhuoK6uqC"
      }
    },
    {
      "cell_type": "markdown",
      "source": [
        "# Coding Task 2\n",
        "\n",
        "- Deadline (upload to Ilias): 2023-05-14 24:00\n",
        "- Solutions in lecture on 2023-05-17\n",
        "- Estimated effort: from 4 to 60 hours\n",
        "- Images (data) on Ilias in the Data folder, the images.zip file\n",
        "- Main notebook is number 11 for this task, however, also others may help you. You can also benefit a lot from googeling for code examples\n"
      ],
      "metadata": {
        "id": "gn4RkUC66-ou"
      }
    },
    {
      "cell_type": "markdown",
      "source": [
        "## Subtasks (maximum 12.5 points)"
      ],
      "metadata": {
        "id": "KYKF2iS56v1z"
      }
    },
    {
      "cell_type": "markdown",
      "source": [
        "- Upload the images to a folder on your google drive. Write a function which retrieves the filenames of the images, contains a loop converting them to png images and saves them. [about 1 hour] [max 3 points] \n",
        "- With some filtering and sthresholding, write a function which converts the colored bins into nice white segments on a black background for one image. [about 1 hour][max 3 points]\n",
        "- Write an algorithm which counts the number of bins. First approach could be a \"sliding window\" algorithm, i.e a loop sliding over the image and counting regions with substantial white content. There may also be nice segmentation tools out \"there\" already. You may google. [about 4 hours][max 3 points] \n",
        "- Write an algorithm which does the latter task on all images. As the images are quite different, this is a large task which goes beyond the time budget of this exercise, however, you can give it a try. If it works out for a couple of images, that is already good. [from 4 to 50 hours][max 3.5 points]"
      ],
      "metadata": {
        "id": "rXqhhPMu9aPx"
      }
    },
    {
      "cell_type": "markdown",
      "source": [
        "Work in teams and have fun ! "
      ],
      "metadata": {
        "id": "OfvMackX-SFc"
      }
    },
    {
      "cell_type": "code",
      "source": [
        "import numpy as np\n",
        "import matplotlib.pyplot as plt\n",
        "import skimage.io as io\n",
        "# from skimage.external.tifffile import TiffFile\n",
        "\n",
        "import skimage.filters as skf\n",
        "\n",
        "import skimage.morphology as skm\n",
        "\n",
        "from google.colab import drive\n",
        "drive.mount('/content/drive')\n"
      ],
      "metadata": {
        "id": "jNRHC9V00iKf",
        "colab": {
          "base_uri": "https://localhost:8080/"
        },
        "outputId": "dee84607-1c84-4e88-9898-4b485ea25f26"
      },
      "execution_count": 1,
      "outputs": [
        {
          "output_type": "stream",
          "name": "stdout",
          "text": [
            "Drive already mounted at /content/drive; to attempt to forcibly remount, call drive.mount(\"/content/drive\", force_remount=True).\n"
          ]
        }
      ]
    },
    {
      "cell_type": "code",
      "source": [
        "# We need to convert the image HEIC formats to something more usual. Stack overflow suggests to use PIL for that. So we installs that.\n",
        "!pip install pillow_heif "
      ],
      "metadata": {
        "colab": {
          "base_uri": "https://localhost:8080/"
        },
        "id": "F1HcWPuOOyOo",
        "outputId": "79fdd05c-c2a9-4531-c487-8508a83b6d48"
      },
      "execution_count": 2,
      "outputs": [
        {
          "output_type": "stream",
          "name": "stdout",
          "text": [
            "Looking in indexes: https://pypi.org/simple, https://us-python.pkg.dev/colab-wheels/public/simple/\n",
            "Requirement already satisfied: pillow_heif in /usr/local/lib/python3.9/dist-packages (0.10.1)\n",
            "Requirement already satisfied: pillow>=8.4.0 in /usr/local/lib/python3.9/dist-packages (from pillow_heif) (8.4.0)\n"
          ]
        }
      ]
    },
    {
      "cell_type": "markdown",
      "source": [
        "Task 1: Upload the images to a folder on your google drive. Write a function which retrieves the filenames of the images, contains a loop converting them to png images and saves them."
      ],
      "metadata": {
        "id": "bQGpbt94O-f9"
      }
    },
    {
      "cell_type": "code",
      "source": [
        "import os\n",
        "from PIL import Image\n",
        "import pillow_heif\n",
        "\n",
        "\n",
        "folder_path = '/content/drive/MyDrive/datascience/codingtask2/'\n",
        "\n",
        "heic_files_found = False # Flag to keep track if any HEIC files are found\n",
        "\n",
        "for filename in os.listdir(folder_path):\n",
        "    if filename.endswith('.HEIC'):\n",
        "        heif_file = pillow_heif.read_heif(folder_path + filename)\n",
        "        image = Image.frombytes(heif_file.mode, heif_file.size, heif_file.data.tobytes(), \"raw\")\n",
        "        \n",
        "        url_name = filename.split('.')[0] + '.png'\n",
        "        image.save(folder_path + url_name, format=\"png\")\n",
        "        \n",
        "        heic_files_found = True # Set the flag to True if at least one HEIC file is found\n",
        "    print(url_name)\n",
        "if not heic_files_found:\n",
        "    print(\"No HEIC files found in the specified folder.\")"
      ],
      "metadata": {
        "colab": {
          "base_uri": "https://localhost:8080/"
        },
        "id": "f-UEaoZXZfPy",
        "outputId": "7158e806-8635-4497-b6f7-ddaf7915b308"
      },
      "execution_count": 9,
      "outputs": [
        {
          "output_type": "stream",
          "name": "stdout",
          "text": [
            "IMG_5383.png\n",
            "IMG_5384.png\n",
            "IMG_5385.png\n",
            "IMG_5386.png\n",
            "IMG_5381.png\n",
            "IMG_5382.png\n",
            "IMG_5390.png\n",
            "IMG_5392.png\n",
            "IMG_5393.png\n",
            "IMG_5379.png\n",
            "IMG_5380.png\n",
            "IMG_5388.png\n",
            "IMG_5389.png\n",
            "IMG_5387.png\n",
            "IMG_5387.png\n",
            "IMG_5387.png\n",
            "IMG_5387.png\n",
            "IMG_5387.png\n",
            "IMG_5387.png\n",
            "IMG_5387.png\n",
            "IMG_5387.png\n",
            "IMG_5387.png\n",
            "IMG_5387.png\n",
            "IMG_5387.png\n",
            "IMG_5387.png\n",
            "IMG_5387.png\n",
            "IMG_5387.png\n",
            "IMG_5387.png\n"
          ]
        }
      ]
    },
    {
      "cell_type": "markdown",
      "source": [
        "Task 2: With some filtering and sthresholding, write a function which converts the colored bins into nice white segments on a black background for one image."
      ],
      "metadata": {
        "id": "w0YnrDxyPFvz"
      }
    },
    {
      "cell_type": "code",
      "source": [
        "!pip install pyheif"
      ],
      "metadata": {
        "colab": {
          "base_uri": "https://localhost:8080/"
        },
        "id": "MPSFn0o5i6vr",
        "outputId": "df339be8-23fb-40ba-e4f1-79126da8d2a0"
      },
      "execution_count": 3,
      "outputs": [
        {
          "output_type": "stream",
          "name": "stdout",
          "text": [
            "Looking in indexes: https://pypi.org/simple, https://us-python.pkg.dev/colab-wheels/public/simple/\n",
            "Requirement already satisfied: pyheif in /usr/local/lib/python3.9/dist-packages (0.7.1)\n",
            "Requirement already satisfied: cffi>=1.0.0 in /usr/local/lib/python3.9/dist-packages (from pyheif) (1.15.1)\n",
            "Requirement already satisfied: pycparser in /usr/local/lib/python3.9/dist-packages (from cffi>=1.0.0->pyheif) (2.21)\n"
          ]
        }
      ]
    },
    {
      "cell_type": "code",
      "source": [
        "import glob\n",
        "import os\n",
        "from PIL import Image\n",
        "import pillow_heif\n",
        "from skimage import io\n",
        "\n",
        "\n",
        "threshold_manual = 60\n",
        "folder_path = '/content/drive/MyDrive/datascience/codingtask22/'\n",
        "png_files = glob.glob(os.path.join(folder_path, \"*.png\"))\n",
        "\n",
        "for files in png_files:\n",
        "  imageRGB = io.imread(files) #loads it as a 3-dimensional NumPy array with shape (height, width, channels)\n",
        "  image = imageRGB[:,:,2] #now contains only the intensity values for the blue channel,\n",
        "  image = image[image.shape[0]//2:image.shape[0],:]\n",
        "  image_mean = skf.median(image,selem=skm.disk(20)) #replaces each pixel in an image with the median value of the surrounding pixels.\n",
        "  image_threshold = image_mean<threshold_manual #pixels with intensity values less than the threshold value are considered as background or noise\n",
        "  plt.figure(figsize=(3, 3))\n",
        "  plt.imshow(image_threshold, cmap ='gray')\n",
        "  plt.show()\n",
        "\n",
        "  io.imsave(os.path.join(folder_path, \"processed_\" + os.path.basename(files)), image_threshold)\n"
      ],
      "metadata": {
        "id": "nnVG0OfpCDiP",
        "outputId": "c5b5346a-bf65-4261-95dd-501987631a48",
        "colab": {
          "base_uri": "https://localhost:8080/",
          "height": 552
        }
      },
      "execution_count": 37,
      "outputs": [
        {
          "output_type": "stream",
          "name": "stderr",
          "text": [
            "<ipython-input-37-68c727ffa708>:16: FutureWarning: `selem` is a deprecated argument name for `median`. It will be removed in version 1.0. Please use `footprint` instead.\n",
            "  image_mean = skf.median(image,selem=skm.disk(20)) #replaces each pixel in an image with the median value of the surrounding pixels.\n"
          ]
        },
        {
          "output_type": "display_data",
          "data": {
            "text/plain": [
              "<Figure size 300x300 with 1 Axes>"
            ],
            "image/png": "[encoded data removed]"
          },
          "metadata": {}
        },
        {
          "output_type": "stream",
          "name": "stderr",
          "text": [
            "<ipython-input-37-68c727ffa708>:22: UserWarning: /content/drive/MyDrive/datascience/codingtask22/processed_IMG_5383.png is a boolean image: setting True to 255 and False to 0. To silence this warning, please convert the image using img_as_ubyte.\n",
            "  io.imsave(os.path.join(folder_path, \"processed_\" + os.path.basename(files)), image_threshold)\n"
          ]
        },
        {
          "output_type": "display_data",
          "data": {
            "text/plain": [
              "<Figure size 300x300 with 1 Axes>"
            ],
            "image/png": "[encoded data removed]"
          },
          "metadata": {}
        },
        {
          "output_type": "stream",
          "name": "stderr",
          "text": [
            "<ipython-input-37-68c727ffa708>:22: UserWarning: /content/drive/MyDrive/datascience/codingtask22/processed_Kopie von IMG_5382.png is a boolean image: setting True to 255 and False to 0. To silence this warning, please convert the image using img_as_ubyte.\n",
            "  io.imsave(os.path.join(folder_path, \"processed_\" + os.path.basename(files)), image_threshold)\n"
          ]
        }
      ]
    },
    {
      "cell_type": "markdown",
      "source": [
        "Task 3: Write an algorithm which counts the number of bins. First approach could be a \"sliding window\" algorithm, i.e a loop sliding over the image and counting regions with substantial white content. There may also be nice segmentation tools out \"there\" already. You may google."
      ],
      "metadata": {
        "id": "lUTq7n3jPKRs"
      }
    },
    {
      "cell_type": "code",
      "source": [
        "import matplotlib.pyplot as plt\n",
        "from skimage import io, feature, filters\n",
        "\n",
        "# Load the image and convert it to grayscale\n",
        "image = io.imread('/content/drive/MyDrive/datascience/codingtask22/processed_IMG_5383.png', as_gray=True)\n",
        "\n",
        "# Apply a Gaussian filter to smooth the image\n",
        "image_smoothed = filters.gaussian(image, sigma=3)\n",
        "\n",
        "# Detect blobs using the Laplacian of Gaussian method\n",
        "blobs = feature.blob_log(image_smoothed, min_sigma=3, max_sigma=30, num_sigma=10, threshold=0.1)\n",
        "\n",
        "# Plot the image and the detected blobs\n",
        "fig, ax = plt.subplots()\n",
        "ax.imshow(image, cmap='gray')\n",
        "for blob in blobs:\n",
        "    y, x, r = blob\n",
        "    c = plt.Circle((x, y), r, color='red', linewidth=2, fill=False)\n",
        "    ax.add_patch(c)\n",
        "plt.show()\n",
        "\n",
        "#blobs = blob_doh(image_threshold, max_sigma=30, threshold=.01)\n",
        "\n",
        "print(\"Number of blobs detected:\", len(blobs))"
      ],
      "metadata": {
        "id": "xbBOldWpah1_",
        "outputId": "2f6e4c63-d725-49a2-f8ff-d548521e6aaf",
        "colab": {
          "base_uri": "https://localhost:8080/",
          "height": 414
        }
      },
      "execution_count": 59,
      "outputs": [
        {
          "output_type": "display_data",
          "data": {
            "text/plain": [
              "<Figure size 640x480 with 1 Axes>"
            ],
            "image/png": "[encoded data removed]"
          },
          "metadata": {}
        },
        {
          "output_type": "stream",
          "name": "stdout",
          "text": [
            "Number of blobs detected: 51\n"
          ]
        }
      ]
    },
    {
      "cell_type": "code",
      "source": [
        "import skimage.io as io\n",
        "from skimage.filters import threshold_otsu\n",
        "from skimage.measure import label, regionprops\n",
        "\n",
        "threshold_value = 30\n",
        "folder_path = '/content/drive/MyDrive/datascience/codingtask22/'\n",
        "png_files = glob.glob(os.path.join(folder_path, \"*.png\"))\n",
        "\n",
        "for files in png_files:\n",
        "\n",
        "# Load the image\n",
        "  image = io.imread(files)\n",
        "\n",
        "# Convert the image to binary format\n",
        "  threshold_value = threshold_otsu(image)\n",
        "  binary_image = image < threshold_value\n",
        "\n",
        "# Label the connected white regions in the binary image\n",
        "  label_image = label(binary_image)\n",
        "\n",
        "# Get the properties of the labeled regions\n",
        "  regions = regionprops(label_image)\n",
        "\n",
        "# Count the number of regions with a minimum number of pixels\n",
        "  min_pixels = 30\n",
        "  num_blobs = sum(1 for r in regions if r.area >= min_pixels)\n",
        "\n",
        "  print(f\"Number of blobs: {num_blobs}\")"
      ],
      "metadata": {
        "id": "sBxJaF6-L8wC",
        "outputId": "b7bef87a-bed9-4b15-9039-f90604a7b58b",
        "colab": {
          "base_uri": "https://localhost:8080/"
        }
      },
      "execution_count": 50,
      "outputs": [
        {
          "output_type": "stream",
          "name": "stderr",
          "text": [
            "<ipython-input-50-e0021386cf75>:15: UserWarning: threshold_otsu is expected to work correctly only for grayscale images; image shape (4032, 3024, 3) looks like that of an RGB image.\n",
            "  threshold_value = threshold_otsu(image)\n"
          ]
        },
        {
          "output_type": "stream",
          "name": "stdout",
          "text": [
            "Number of blobs: 1009\n",
            "Number of blobs: 1370\n",
            "Number of blobs: 0\n",
            "Number of blobs: 0\n"
          ]
        }
      ]
    },
    {
      "cell_type": "markdown",
      "source": [
        "Task 4: Write an algorithm which does the latter task on all images. As the images are quite different, this is a large task which goes beyond the time budget of this exercise, however, you can give it a try. If it works out for a couple of images, that is already good"
      ],
      "metadata": {
        "id": "2D8Yj4v_PNE5"
      }
    },
    {
      "cell_type": "code",
      "source": [],
      "metadata": {
        "id": "fG5LOz3TPU3J"
      },
      "execution_count": null,
      "outputs": []
    }
  ]
}