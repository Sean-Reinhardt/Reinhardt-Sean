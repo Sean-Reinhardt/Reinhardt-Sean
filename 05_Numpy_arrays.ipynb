{
  "nbformat": 4,
  "nbformat_minor": 0,
  "metadata": {
    "colab": {
      "name": "05-Numpy_arrays.ipynb",
      "provenance": [],
      "include_colab_link": true
    },
    "kernelspec": {
      "name": "python3",
      "display_name": "Python 3"
    }
  },
  "cells": [
    {
      "cell_type": "markdown",
      "metadata": {
        "id": "view-in-github",
        "colab_type": "text"
      },
      "source": [
        "<a href=\"https://colab.research.google.com/github/Sean-Reinhardt/Reinhardt-Sean/blob/main/05_Numpy_arrays.ipynb\" target=\"_parent\"><img src=\"https://colab.research.google.com/assets/colab-badge.svg\" alt=\"Open In Colab\"/></a>"
      ]
    },
    {
      "cell_type": "markdown",
      "metadata": {
        "id": "6LZWsXsoP9xF"
      },
      "source": [
        "This notebook has been provided by G. Witz, University of Bern\n",
        "\n",
        "# 5. Numpy arrays\n",
        "\n",
        "We have seen in a previous notebook that the objects underlying the complex DataFrames are Numpy arrays. Why do we need this additional container and why can't we just use Python lists ?\n",
        "\n",
        "Let's imagine we have a list containing weights in gramms:"
      ]
    },
    {
      "cell_type": "code",
      "metadata": {
        "id": "9iY_ZQgrTWCa"
      },
      "source": [
        "#gramms = [5400, 3491, 2591, 14100]"
      ],
      "execution_count": null,
      "outputs": []
    },
    {
      "cell_type": "markdown",
      "metadata": {
        "id": "NvPLOmlMTxbY"
      },
      "source": [
        "Now we want to transform this list into kilogramms. We don't have any other choice than using a for loop (or a comprehension list) to divide each element by 1000:"
      ]
    },
    {
      "cell_type": "code",
      "metadata": {
        "id": "5nK4mxwlT7ys"
      },
      "source": [
        "# kilogramms = []\n",
        "# for i in range(len(gramms)):\n",
        "#   new_value = gramms[i]/1000\n",
        "#   kilogramms.append(new_value)\n",
        "# kilogramms"
      ],
      "execution_count": null,
      "outputs": []
    },
    {
      "cell_type": "markdown",
      "metadata": {
        "id": "RleZZQejUI1c"
      },
      "source": [
        "You can imagine much more complex cases, e.g. where we mix multiple lists, that makes this writing cumbersome and slow. What arrays provide us is **vectorized** computations."
      ]
    },
    {
      "cell_type": "markdown",
      "metadata": {
        "id": "wPNdTPiiTT3A"
      },
      "source": [
        "## Creating an array\n",
        "\n",
        "To see how this works , let's create a Numpy array (without extracting it from a DataFrame). First of all, let's import Numpy."
      ]
    },
    {
      "cell_type": "code",
      "metadata": {
        "id": "LzNYiEOyUaQD"
      },
      "source": [
        "# import numpy as np"
      ],
      "execution_count": null,
      "outputs": []
    },
    {
      "cell_type": "markdown",
      "metadata": {
        "id": "_aPAQuXVUxRl"
      },
      "source": [
        "We can easily turn our previous list into an array using the ```np.array``` function:"
      ]
    },
    {
      "cell_type": "code",
      "metadata": {
        "id": "50BgLjoRU4YZ"
      },
      "source": [
        "# gramms_array = np.array(gramms)\n",
        "# gramms_array"
      ],
      "execution_count": null,
      "outputs": []
    },
    {
      "cell_type": "markdown",
      "metadata": {
        "id": "6nMaz-_DVBhM"
      },
      "source": [
        "**Vectorization** means now that we can operate on the list as **one object**, i.e. we can do mathematics with it as with a single number. In our example:"
      ]
    },
    {
      "cell_type": "code",
      "metadata": {
        "id": "zG3ZfpPdVNzG"
      },
      "source": [
        "# kilogramms_array = gramms_array / 1000\n",
        "# kilogramms_array"
      ],
      "execution_count": null,
      "outputs": []
    },
    {
      "cell_type": "markdown",
      "metadata": {
        "id": "N2Bl_00LS9ns"
      },
      "source": [
        "As mentioned above, this also works if we need to performe a computation which uses multiple arrays. Let's imagine we have a list of price/$m^2$ and surface for a series of appartments:"
      ]
    },
    {
      "cell_type": "code",
      "metadata": {
        "id": "63RxqWJCSj6Q"
      },
      "source": [
        "price_per_m2 = [6, 10.3, 12.4, 10.6, 5.7, 4.3, 14, 0.5, 0.5, 17.8, 12.7, 16, 2.7, 17.5, 5.2, 7.1, 1.2, 7.2, 14.5, 11.9]\n",
        "surface = [238, 239, 265, 212, 143, 132, 142, 133, 109, 291, 225, 165, 141, 197, 298, 289, 123,  90, 132, 203]"
      ],
      "execution_count": null,
      "outputs": []
    },
    {
      "cell_type": "markdown",
      "metadata": {
        "id": "kONcD-Fo-AzN"
      },
      "source": [
        "Now if we want to calculate the price of the apartment, we can just multiply each price/$m^2$ by the surface. We can do that by creating a for loop and filling a new list with the values:"
      ]
    },
    {
      "cell_type": "code",
      "metadata": {
        "id": "g2mXTvba-VSH"
      },
      "source": [
        "price = []\n",
        "for i in range(len(price_per_m2)):\n",
        "  current_price = price_per_m2[i] * surface[i]\n",
        "  price.append(current_price)"
      ],
      "execution_count": null,
      "outputs": []
    },
    {
      "cell_type": "code",
      "metadata": {
        "id": "18M7PDlS-WPA",
        "outputId": "f0875974-87a7-4caf-babc-8f493d87423e",
        "colab": {
          "base_uri": "https://localhost:8080/"
        }
      },
      "source": [
        "price"
      ],
      "execution_count": null,
      "outputs": [
        {
          "output_type": "execute_result",
          "data": {
            "text/plain": [
              "[1428,\n",
              " 2461.7000000000003,\n",
              " 3286.0,\n",
              " 2247.2,\n",
              " 815.1,\n",
              " 567.6,\n",
              " 1988,\n",
              " 66.5,\n",
              " 54.5,\n",
              " 5179.8,\n",
              " 2857.5,\n",
              " 2640,\n",
              " 380.70000000000005,\n",
              " 3447.5,\n",
              " 1549.6000000000001,\n",
              " 2051.9,\n",
              " 147.6,\n",
              " 648.0,\n",
              " 1914.0,\n",
              " 2415.7000000000003]"
            ]
          },
          "metadata": {},
          "execution_count": 4
        }
      ]
    },
    {
      "cell_type": "markdown",
      "metadata": {
        "id": "Ehykz3OdTGog"
      },
      "source": [
        "Again we transform the two lists into arrays:"
      ]
    },
    {
      "cell_type": "code",
      "metadata": {
        "id": "2EuNCAor-aZx"
      },
      "source": [
        "# price_per_m2_array = np.array(price_per_m2)\n",
        "# surface_array = np.array(surface)"
      ],
      "execution_count": null,
      "outputs": []
    },
    {
      "cell_type": "markdown",
      "metadata": {
        "id": "PlUpfLap-nqy"
      },
      "source": [
        "Instead of having to write a foor loop, Numpy allows us now to just use a standard mathemetical operation where we multiply the two arrays:"
      ]
    },
    {
      "cell_type": "code",
      "metadata": {
        "id": "5ThA10V8UTop"
      },
      "source": [
        "# price_array = price_per_m2_array * surface_array"
      ],
      "execution_count": null,
      "outputs": []
    },
    {
      "cell_type": "code",
      "metadata": {
        "id": "0czFHhOsUhZx"
      },
      "source": [
        "# price_array"
      ],
      "execution_count": null,
      "outputs": []
    },
    {
      "cell_type": "markdown",
      "metadata": {
        "id": "McdhU9iXUuuA"
      },
      "source": [
        "You see that when multiplying two arrays, **Numpy simply multiplies each element of one array by the equivalent element of the other array**."
      ]
    },
    {
      "cell_type": "markdown",
      "metadata": {
        "id": "0hpAJQGzWaVW"
      },
      "source": [
        "## Advantages of vectorization\n",
        "There are two main advantages to this approach. First it makes the code much **simpler**: we achieved in a single line, what took an entire for loop with simples lists (there are slightly more efficient ways to do that even in plain Python via comprehension lists).\n",
        "\n",
        "Second, it makes our code run much **faster**. When we do a for loop, each operation is done separately, and since Python is dynamically typed (you don't have to say whether a variable is text or numbers) it has to repeatedly carry out verifications. In the Numpy vectorized version, all multiplications can be done **in parallel** because: 1) the array contains only one type of variables so that no controls have to be done and 2) arrays are efficiently stored as blocks in memory so that individual values don't have to be \"searched\" for.\n",
        "\n",
        "With this very simple example, we can compare the execution time using the magic command ```%%timeit```:"
      ]
    },
    {
      "cell_type": "code",
      "metadata": {
        "id": "cTiAVpCKUjJx"
      },
      "source": [
        "# %%timeit -n 10000 -r 5 \n",
        "# price = []\n",
        "# for i in range(len(price_per_m2)):\n",
        "#   current_price = price_per_m2[i] * surface[i]\n",
        "#   price.append(current_price)"
      ],
      "execution_count": null,
      "outputs": []
    },
    {
      "cell_type": "code",
      "metadata": {
        "id": "fviMiCFSU976"
      },
      "source": [
        "# %%timeit -n 10000 -r 5\n",
        "# price_array = price_per_m2_array * surface_array"
      ],
      "execution_count": null,
      "outputs": []
    },
    {
      "cell_type": "markdown",
      "metadata": {
        "id": "pyJZzn1cV0q9"
      },
      "source": [
        "## Array type\n",
        "\n",
        "We have mentioned above that computation is fast because the type of the arrays is known. This means that **all the elements of an array** must have the same type. Numpy implements its own types called ```dtype```. We can access to the type of an array using this:"
      ]
    },
    {
      "cell_type": "code",
      "metadata": {
        "id": "7MuC_434EtE1"
      },
      "source": [
        "# price_per_m2_array"
      ],
      "execution_count": null,
      "outputs": []
    },
    {
      "cell_type": "code",
      "metadata": {
        "id": "AOhyeVexVF2m"
      },
      "source": [
        "# price_per_m2_array.dtype"
      ],
      "execution_count": null,
      "outputs": []
    },
    {
      "cell_type": "markdown",
      "metadata": {
        "id": "lGthedPBBH4u"
      },
      "source": [
        "We see that by default Numpy decided that the price had ```float64``` dtype because the numbers we used had a comma. Notice it also turned the numbers that **didn't** have a comma into floats (like the first element ```6```). Since all elements of an array need to have the same type, Numpy just selects the **most complex one** for the entire array.\n",
        "\n",
        "Let's see what ```dtype``` the surface array has:"
      ]
    },
    {
      "cell_type": "code",
      "metadata": {
        "id": "NiTip4BVDp7G"
      },
      "source": [
        "# surface_array.dtype"
      ],
      "execution_count": null,
      "outputs": []
    },
    {
      "cell_type": "markdown",
      "metadata": {
        "id": "OeBmGsjVD14p"
      },
      "source": [
        "We **only** used integerer numbers in that list, and therefore Numpy can use a \"simpler\" ```dtype``` for that array.\n",
        "\n",
        "Finally let's see the result of our multiplication:"
      ]
    },
    {
      "cell_type": "code",
      "metadata": {
        "id": "we6JrGvREPpi"
      },
      "source": [
        "# price_array.dtype"
      ],
      "execution_count": null,
      "outputs": []
    },
    {
      "cell_type": "markdown",
      "metadata": {
        "id": "0jaZBMNHFaJ7"
      },
      "source": [
        "When combining multiple arrays, Numpy always **selects** the most complex ```dtype``` for the output.\n",
        "\n",
        "If needed we can also change the ```dtype``` of an array explicitly using the ```as_type``` method. For example if we want our ```surface_array``` to be a float instead of an integer we can write:"
      ]
    },
    {
      "cell_type": "code",
      "metadata": {
        "id": "nTBNNZ0VF3CS"
      },
      "source": [
        "# surface_array_float = surface_array.astype(np.float64)"
      ],
      "execution_count": null,
      "outputs": []
    },
    {
      "cell_type": "code",
      "metadata": {
        "id": "HO6U9vkYF8nR"
      },
      "source": [
        "surface_array_float.dtype"
      ],
      "execution_count": null,
      "outputs": []
    },
    {
      "cell_type": "markdown",
      "metadata": {
        "id": "ncEzbShkF994"
      },
      "source": [
        "Notice how we had to create a **new** array: most operations on Numpy arrays are **not done in place** i.e. the array itsels is not changed."
      ]
    },
    {
      "cell_type": "markdown",
      "metadata": {
        "id": "7Szx8kPgGJnj"
      },
      "source": [
        "## Back to Pandas\n",
        "\n",
        "Before we explore a bit further Numpy arrays and the operations we can apply on them, let's briefly come back to our Pandas DataFrame. We will use a simpler table that is also available online [here](https://github.com/guiwitz/NumpyPandas_course/blob/master/Data/composers.xlsx). Notice that this is this time really an Excel sheet, so we use the ```read_excel``` function:"
      ]
    },
    {
      "cell_type": "code",
      "metadata": {
        "id": "tGxVbpQBGelD",
        "outputId": "7cb53f1d-723f-44e6-8bd2-0b8ee75065f4",
        "colab": {
          "base_uri": "https://localhost:8080/",
          "height": 175
        }
      },
      "source": [
        "import pandas as pd\n",
        "\n",
        "composers = pd.read_excel('https://github.com/guiwitz/NumpyPandas_course/blob/master/Data/composers.xlsx?raw=true')\n",
        "composers"
      ],
      "execution_count": null,
      "outputs": [
        {
          "output_type": "execute_result",
          "data": {
            "text/plain": [
              "       composer  birth  death              city\n",
              "0        Mahler   1860   1911           Kaliste\n",
              "1     Beethoven   1770   1827              Bonn\n",
              "2       Puccini   1858   1924           Lucques\n",
              "3  Shostakovich   1906   1975  Saint-Petersburg"
            ],
            "text/html": [
              "\n",
              "  <div id=\"df-840c2b87-e0c5-4854-a4f4-84ddda0c1e8f\">\n",
              "    <div class=\"colab-df-container\">\n",
              "      <div>\n",
              "<style scoped>\n",
              "    .dataframe tbody tr th:only-of-type {\n",
              "        vertical-align: middle;\n",
              "    }\n",
              "\n",
              "    .dataframe tbody tr th {\n",
              "        vertical-align: top;\n",
              "    }\n",
              "\n",
              "    .dataframe thead th {\n",
              "        text-align: right;\n",
              "    }\n",
              "</style>\n",
              "<table border=\"1\" class=\"dataframe\">\n",
              "  <thead>\n",
              "    <tr style=\"text-align: right;\">\n",
              "      <th></th>\n",
              "      <th>composer</th>\n",
              "      <th>birth</th>\n",
              "      <th>death</th>\n",
              "      <th>city</th>\n",
              "    </tr>\n",
              "  </thead>\n",
              "  <tbody>\n",
              "    <tr>\n",
              "      <th>0</th>\n",
              "      <td>Mahler</td>\n",
              "      <td>1860</td>\n",
              "      <td>1911</td>\n",
              "      <td>Kaliste</td>\n",
              "    </tr>\n",
              "    <tr>\n",
              "      <th>1</th>\n",
              "      <td>Beethoven</td>\n",
              "      <td>1770</td>\n",
              "      <td>1827</td>\n",
              "      <td>Bonn</td>\n",
              "    </tr>\n",
              "    <tr>\n",
              "      <th>2</th>\n",
              "      <td>Puccini</td>\n",
              "      <td>1858</td>\n",
              "      <td>1924</td>\n",
              "      <td>Lucques</td>\n",
              "    </tr>\n",
              "    <tr>\n",
              "      <th>3</th>\n",
              "      <td>Shostakovich</td>\n",
              "      <td>1906</td>\n",
              "      <td>1975</td>\n",
              "      <td>Saint-Petersburg</td>\n",
              "    </tr>\n",
              "  </tbody>\n",
              "</table>\n",
              "</div>\n",
              "      <button class=\"colab-df-convert\" onclick=\"convertToInteractive('df-840c2b87-e0c5-4854-a4f4-84ddda0c1e8f')\"\n",
              "              title=\"Convert this dataframe to an interactive table.\"\n",
              "              style=\"display:none;\">\n",
              "        \n",
              "  <svg xmlns=\"http://www.w3.org/2000/svg\" height=\"24px\"viewBox=\"0 0 24 24\"\n",
              "       width=\"24px\">\n",
              "    <path d=\"M0 0h24v24H0V0z\" fill=\"none\"/>\n",
              "    <path d=\"M18.56 5.44l.94 2.06.94-2.06 2.06-.94-2.06-.94-.94-2.06-.94 2.06-2.06.94zm-11 1L8.5 8.5l.94-2.06 2.06-.94-2.06-.94L8.5 2.5l-.94 2.06-2.06.94zm10 10l.94 2.06.94-2.06 2.06-.94-2.06-.94-.94-2.06-.94 2.06-2.06.94z\"/><path d=\"M17.41 7.96l-1.37-1.37c-.4-.4-.92-.59-1.43-.59-.52 0-1.04.2-1.43.59L10.3 9.45l-7.72 7.72c-.78.78-.78 2.05 0 2.83L4 21.41c.39.39.9.59 1.41.59.51 0 1.02-.2 1.41-.59l7.78-7.78 2.81-2.81c.8-.78.8-2.07 0-2.86zM5.41 20L4 18.59l7.72-7.72 1.47 1.35L5.41 20z\"/>\n",
              "  </svg>\n",
              "      </button>\n",
              "      \n",
              "  <style>\n",
              "    .colab-df-container {\n",
              "      display:flex;\n",
              "      flex-wrap:wrap;\n",
              "      gap: 12px;\n",
              "    }\n",
              "\n",
              "    .colab-df-convert {\n",
              "      background-color: #E8F0FE;\n",
              "      border: none;\n",
              "      border-radius: 50%;\n",
              "      cursor: pointer;\n",
              "      display: none;\n",
              "      fill: #1967D2;\n",
              "      height: 32px;\n",
              "      padding: 0 0 0 0;\n",
              "      width: 32px;\n",
              "    }\n",
              "\n",
              "    .colab-df-convert:hover {\n",
              "      background-color: #E2EBFA;\n",
              "      box-shadow: 0px 1px 2px rgba(60, 64, 67, 0.3), 0px 1px 3px 1px rgba(60, 64, 67, 0.15);\n",
              "      fill: #174EA6;\n",
              "    }\n",
              "\n",
              "    [theme=dark] .colab-df-convert {\n",
              "      background-color: #3B4455;\n",
              "      fill: #D2E3FC;\n",
              "    }\n",
              "\n",
              "    [theme=dark] .colab-df-convert:hover {\n",
              "      background-color: #434B5C;\n",
              "      box-shadow: 0px 1px 3px 1px rgba(0, 0, 0, 0.15);\n",
              "      filter: drop-shadow(0px 1px 2px rgba(0, 0, 0, 0.3));\n",
              "      fill: #FFFFFF;\n",
              "    }\n",
              "  </style>\n",
              "\n",
              "      <script>\n",
              "        const buttonEl =\n",
              "          document.querySelector('#df-840c2b87-e0c5-4854-a4f4-84ddda0c1e8f button.colab-df-convert');\n",
              "        buttonEl.style.display =\n",
              "          google.colab.kernel.accessAllowed ? 'block' : 'none';\n",
              "\n",
              "        async function convertToInteractive(key) {\n",
              "          const element = document.querySelector('#df-840c2b87-e0c5-4854-a4f4-84ddda0c1e8f');\n",
              "          const dataTable =\n",
              "            await google.colab.kernel.invokeFunction('convertToInteractive',\n",
              "                                                     [key], {});\n",
              "          if (!dataTable) return;\n",
              "\n",
              "          const docLinkHtml = 'Like what you see? Visit the ' +\n",
              "            '<a target=\"_blank\" href=https://colab.research.google.com/notebooks/data_table.ipynb>data table notebook</a>'\n",
              "            + ' to learn more about interactive tables.';\n",
              "          element.innerHTML = '';\n",
              "          dataTable['output_type'] = 'display_data';\n",
              "          await google.colab.output.renderOutput(dataTable, element);\n",
              "          const docLink = document.createElement('div');\n",
              "          docLink.innerHTML = docLinkHtml;\n",
              "          element.appendChild(docLink);\n",
              "        }\n",
              "      </script>\n",
              "    </div>\n",
              "  </div>\n",
              "  "
            ]
          },
          "metadata": {},
          "execution_count": 5
        }
      ]
    },
    {
      "cell_type": "markdown",
      "metadata": {
        "id": "ZRAjPJXbGjuf"
      },
      "source": [
        "Let's look at the birth column:"
      ]
    },
    {
      "cell_type": "code",
      "metadata": {
        "id": "nc2RRRfMGms2",
        "outputId": "b0cf4d15-031d-41bd-94e9-e2fedf9eb2bd",
        "colab": {
          "base_uri": "https://localhost:8080/"
        }
      },
      "source": [
        "composers['birth']"
      ],
      "execution_count": null,
      "outputs": [
        {
          "output_type": "execute_result",
          "data": {
            "text/plain": [
              "0    1860\n",
              "1    1770\n",
              "2    1858\n",
              "3    1906\n",
              "Name: birth, dtype: int64"
            ]
          },
          "metadata": {},
          "execution_count": 6
        }
      ]
    },
    {
      "cell_type": "markdown",
      "metadata": {
        "id": "I2bTOoyHUPI1"
      },
      "source": [
        "We see that we here also get a ```dtype``` information, in this case int64, since the underlying data of the DataFrame are Numpy arrays.\n",
        "\n",
        "Just like with Numpy arrays, we can explicitely ask for the ```dtype```:"
      ]
    },
    {
      "cell_type": "code",
      "metadata": {
        "id": "YiBUIB3cUhM2"
      },
      "source": [
        "# composers['birth'].dtype"
      ],
      "execution_count": null,
      "outputs": []
    },
    {
      "cell_type": "markdown",
      "metadata": {
        "id": "0fElNvuoUvIU"
      },
      "source": [
        "And we can also change the ```dtype``` using ```astype()```. Here again, we need to **asign** the resulto the change to a new series or directly to the original DataFrame:"
      ]
    },
    {
      "cell_type": "code",
      "metadata": {
        "id": "bD2CMoICU7Nb"
      },
      "source": [
        "import numpy as np\n",
        "composers['birth'] = composers['birth'].astype(np.float64)"
      ],
      "execution_count": null,
      "outputs": []
    },
    {
      "cell_type": "code",
      "metadata": {
        "id": "UnVDVvD5VMe-"
      },
      "source": [
        "# composers"
      ],
      "execution_count": null,
      "outputs": []
    },
    {
      "cell_type": "code",
      "metadata": {
        "id": "Ab7I0AtNVNSU",
        "outputId": "ee097370-ced4-4276-94d4-5d8d5204d926",
        "colab": {
          "base_uri": "https://localhost:8080/"
        }
      },
      "source": [
        "composers['birth'].dtype"
      ],
      "execution_count": null,
      "outputs": [
        {
          "output_type": "execute_result",
          "data": {
            "text/plain": [
              "dtype('float64')"
            ]
          },
          "metadata": {},
          "execution_count": 9
        }
      ]
    },
    {
      "cell_type": "markdown",
      "metadata": {
        "id": "xDNlZy9oVP1p"
      },
      "source": [
        "We immediately see that the numbers in the ```birth``` column have now a comma, and if we ask for the column type, we indeed get now a float."
      ]
    },
    {
      "cell_type": "markdown",
      "metadata": {
        "id": "T6qT3vkSVaFi"
      },
      "source": [
        "## Exercise\n",
        "\n",
        "1. Create an array with 3 elements and one with 5 elements containing integers\n",
        "2. Try to multiply the two arrays.\n",
        "3. You should get an error message. Do you understand the problem ? How can you fix it?\n",
        "4. Change the ```dtype``` of the output to float32.\n",
        "5. Import the file that you cand find here: https://raw.githubusercontent.com/allisonhorst/palmerpenguins/master/inst/extdata/penguins.csv\n",
        "6. Use ```head()``` to visualize a few lines\n",
        "7. What's the type of the ```body_mass_g``` and ```year``` columns ?\n",
        "8. Transform the type of the ```year``` column into a float"
      ]
    },
    {
      "cell_type": "code",
      "source": [
        "import numpy as np\n",
        "import pandas as pd\n",
        "#correct version\n",
        "array_1 =[1,3,5]\n",
        "array_2 = [2,4,6,8,10]\n",
        "new_array = []\n",
        "for i in array_1:\n",
        "  for j in array_2:\n",
        "    new = i * j\n",
        "    new_array.append(new)\n",
        "\n",
        "print(new_array)"
      ],
      "metadata": {
        "id": "9asjplwvQfD-",
        "outputId": "04ec98d3-58dc-4d92-fba3-22b254b20b13",
        "colab": {
          "base_uri": "https://localhost:8080/"
        }
      },
      "execution_count": null,
      "outputs": [
        {
          "output_type": "stream",
          "name": "stdout",
          "text": [
            "[2, 4, 6, 8, 10, 6, 12, 18, 24, 30, 10, 20, 30, 40, 50]\n"
          ]
        }
      ]
    },
    {
      "cell_type": "code",
      "source": [
        "#incorrect\n",
        "import numpy as np\n",
        "import pandas as pd\n",
        "\n",
        "array_1 =[1,3,5]\n",
        "array_2 = [2,4,6,8,10]\n",
        "new_array = []\n",
        "for i in range(len(array_1)):\n",
        "  new = array_1[i]*array_2[i]\n",
        "  new_array.append(new)\n",
        "print(new_array)"
      ],
      "metadata": {
        "id": "6rpZKKtbRmm5",
        "outputId": "724858c3-db8b-4fba-bafc-a1e8b9abb411",
        "colab": {
          "base_uri": "https://localhost:8080/"
        }
      },
      "execution_count": null,
      "outputs": [
        {
          "output_type": "stream",
          "name": "stdout",
          "text": [
            "[2, 12, 30]\n"
          ]
        }
      ]
    },
    {
      "cell_type": "code",
      "source": [
        "import pandas as pd\n",
        "Import = pd.read_csv('https://raw.githubusercontent.com/allisonhorst/palmerpenguins/master/inst/extdata/penguins.csv')\n",
        "Import['body_mass_g'] = Import['body_mass_g'].astype(np.float32)\n",
        "#Import['year'].dtype\n"
      ],
      "metadata": {
        "id": "rKoTkHcwTY9O"
      },
      "execution_count": null,
      "outputs": []
    },
    {
      "cell_type": "code",
      "source": [
        "import matplotlib.pyplot as plt\n",
        "import numpy as np\n",
        "import pandas as pd\n",
        "import math\n",
        "\n",
        "angles_deg = np.array([15, 30, 45, 60, 75, 90])\n",
        "\n",
        "# Convert the angles from degrees to radians\n",
        "angles_rad = np.deg2rad(angles_deg)\n",
        "\n",
        "b = np.array([2.915E38,1.22E38,-2.4E38,-2.229E38,1.469E38,2.844E38])\n",
        "\n",
        "# Create a polar plot\n",
        "fig = plt.figure()\n",
        "ax = fig.add_subplot(111, projection='polar')\n",
        "\n",
        "# Plot the values on the polar plot\n",
        "ax.plot(angles_rad, b)\n",
        "\n",
        "# Set the labels and title\n",
        "ax.set_xlabel('Angles')\n",
        "ax.set_ylabel('Values')\n",
        "ax.set_title('Polar Plot')\n",
        "\n",
        "# Show the plot\n",
        "plt.show()\n",
        "\n"
      ],
      "metadata": {
        "id": "uJ60kVy2TYy7",
        "outputId": "d277b720-5111-49c2-9b89-04ccb485c183",
        "colab": {
          "base_uri": "https://localhost:8080/",
          "height": 316
        }
      },
      "execution_count": 6,
      "outputs": [
        {
          "output_type": "display_data",
          "data": {
            "text/plain": [
              "<Figure size 432x288 with 1 Axes>"
            ],
            "image/png": "[encoded data removed]"
          },
          "metadata": {
            "needs_background": "light"
          }
        }
      ]
    },
    {
      "cell_type": "code",
      "source": [
        "import matplotlib.pyplot as plt\n",
        "import numpy as np\n",
        "import pandas as pd\n",
        "import math\n",
        "\n",
        "angles_deg = np.array([15, 30, 45, 60, 75, 90])\n",
        "\n",
        "# Convert the angles from degrees to radians\n",
        "angles_rad = np.deg2rad(angles_deg)\n",
        "\n",
        "b = np.array([1.366E38,-2.48E38,3.18E38,-3.31E38,2.8586E38,-1.905E38])\n",
        "\n",
        "# Create a polar plot\n",
        "fig = plt.figure()\n",
        "ax = fig.add_subplot(111, projection='polar')\n",
        "\n",
        "# Plot the values on the polar plot\n",
        "ax.plot(angles_rad, b)\n",
        "\n",
        "# Set the labels and title\n",
        "ax.set_xlabel('Angles')\n",
        "ax.set_ylabel('Values')\n",
        "ax.set_title('Polar Plot')\n",
        "\n",
        "# Show the plot\n",
        "plt.show()"
      ],
      "metadata": {
        "id": "BxUH-yjDG6CF",
        "outputId": "1dcad992-f94a-4b8b-b5c9-f76e227f2c68",
        "colab": {
          "base_uri": "https://localhost:8080/",
          "height": 316
        }
      },
      "execution_count": 7,
      "outputs": [
        {
          "output_type": "display_data",
          "data": {
            "text/plain": [
              "<Figure size 432x288 with 1 Axes>"
            ],
            "image/png": "[encoded data removed]"
          },
          "metadata": {
            "needs_background": "light"
          }
        }
      ]
    }
  ]
}